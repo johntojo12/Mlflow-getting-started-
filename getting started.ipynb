{
 "cells": [
  {
   "cell_type": "markdown",
   "metadata": {},
   "source": [
    "# MLFlow Tracking server "
   ]
  },
  {
   "cell_type": "markdown",
   "metadata": {},
   "source": [
    "create a new env as using other env can cause package issues \n",
    "- create env \n",
    "- then install mlflow \n",
    "- then install the dependencies\n",
    "\n",
    "run mlflow ui in terminal"
   ]
  },
  {
   "cell_type": "code",
   "execution_count": 6,
   "metadata": {},
   "outputs": [],
   "source": [
    "import mlflow"
   ]
  },
  {
   "cell_type": "code",
   "execution_count": 7,
   "metadata": {},
   "outputs": [],
   "source": [
    "from mlflow.tracking import MlflowClient\n",
    "\n",
    "client = MlflowClient(\"http://127.0.0.1:5000\")"
   ]
  },
  {
   "cell_type": "code",
   "execution_count": 8,
   "metadata": {},
   "outputs": [],
   "source": [
    "import os\n",
    "os.environ['GIT_PYTHON_GIT_EXECUTABLE'] = r'C:\\Program Files\\Git\\cmd\\git.exe'  # Adjust the path if needed"
   ]
  },
  {
   "cell_type": "code",
   "execution_count": 12,
   "metadata": {},
   "outputs": [
    {
     "name": "stderr",
     "output_type": "stream",
     "text": [
      "2025/02/01 12:53:05 INFO mlflow.tracking.fluent: Experiment with name 'Check localhost connection' does not exist. Creating a new experiment.\n"
     ]
    },
    {
     "name": "stdout",
     "output_type": "stream",
     "text": [
      "[<Experiment: artifact_location='file:///d:/projects/mlflow/mlruns/277409043190648316', creation_time=1738394585528, experiment_id='277409043190648316', last_update_time=1738394585528, lifecycle_stage='active', name='Check localhost connection', tags={}>, <Experiment: artifact_location='mlflow-artifacts:/0', creation_time=1738391481403, experiment_id='0', last_update_time=1738391481403, lifecycle_stage='active', name='Default', tags={}>]\n"
     ]
    }
   ],
   "source": [
    "# Create or set an experiment named \"Check localhost connection\"\n",
    "mlflow.set_experiment(\"Check localhost connection\")\n",
    "\n",
    "# Start a new run under this experiment\n",
    "with mlflow.start_run():\n",
    "    mlflow.log_metric('test', 1)\n",
    "    mlflow.log_metric('John', 2)\n",
    "\n",
    "# Now, search for the experiment by name\n",
    "experiments = mlflow.search_experiments()\n",
    "# Print all experiments to see if \"Check localhost connection\" is there\n",
    "print(experiments)\n"
   ]
  },
  {
   "cell_type": "code",
   "execution_count": 13,
   "metadata": {},
   "outputs": [
    {
     "name": "stdout",
     "output_type": "stream",
     "text": [
      "[]\n"
     ]
    }
   ],
   "source": [
    "experiments = mlflow.search_experiments(\"Check localhost connection\")\n",
    "print(experiments)"
   ]
  }
 ],
 "metadata": {
  "kernelspec": {
   "display_name": "mlflow_env",
   "language": "python",
   "name": "python3"
  },
  "language_info": {
   "codemirror_mode": {
    "name": "ipython",
    "version": 3
   },
   "file_extension": ".py",
   "mimetype": "text/x-python",
   "name": "python",
   "nbconvert_exporter": "python",
   "pygments_lexer": "ipython3",
   "version": "3.8.20"
  }
 },
 "nbformat": 4,
 "nbformat_minor": 2
}
